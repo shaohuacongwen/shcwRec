{
 "cells": [
  {
   "cell_type": "code",
   "execution_count": null,
   "id": "afdaf9be-00dd-4648-8da9-e45ddb02dfa5",
   "metadata": {},
   "outputs": [],
   "source": [
    "conda activate tf\n",
    "\n",
    "cd autodl-tmp/shcwRec\n",
    "\n",
    "bash run.sh"
   ]
  },
  {
   "cell_type": "code",
   "execution_count": null,
   "id": "7178da2d-61b4-4704-adb3-d392ace5f2a6",
   "metadata": {},
   "outputs": [],
   "source": [
    "实验说明 这个cx是加上用户兴趣的模型"
   ]
  },
  {
   "cell_type": "code",
   "execution_count": null,
   "id": "ac4d9a9c-f4d6-4cee-9cab-7238654aa45f",
   "metadata": {},
   "outputs": [],
   "source": [
    "不确定自己的代码需要执行多久结束，希望执行完成后立马关机。这类场景可以通过shutdown (最好使用命令完整路径: /usr/bin/shutdown)命令来解决。\n",
    "\n",
    "请保存好程序的日志，自动关机后标准输出中的日志将不再可见\n",
    "\n",
    "# 假设您的程序原执行命令为\n",
    "python train.py\n",
    "\n",
    "# 那么可以在您的程序后跟上shutdown命令\n",
    "python train.py; /usr/bin/shutdown      # 用;拼接意味着前边的指令不管执行成功与否，都会执行shutdown命令\n",
    "python train.py && /usr/bin/shutdown    # 用&&拼接表示前边的命令执行成功后才会执行shutdown。请根据自己的需要选择\n",
    "或者在您的Python代码中执行shutdown命令，例如：\n",
    "\n",
    "import os\n",
    "\n",
    "if __name__ == \"__main__\":\n",
    "    # xxxxxx\n",
    "    os.system(\"/usr/bin/shutdown\")"
   ]
  }
 ],
 "metadata": {
  "kernelspec": {
   "display_name": "Python 3 (ipykernel)",
   "language": "python",
   "name": "python3"
  },
  "language_info": {
   "codemirror_mode": {
    "name": "ipython",
    "version": 3
   },
   "file_extension": ".py",
   "mimetype": "text/x-python",
   "name": "python",
   "nbconvert_exporter": "python",
   "pygments_lexer": "ipython3",
   "version": "3.8.10"
  }
 },
 "nbformat": 4,
 "nbformat_minor": 5
}
